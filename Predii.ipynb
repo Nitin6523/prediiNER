{
  "nbformat": 4,
  "nbformat_minor": 0,
  "metadata": {
    "colab": {
      "provenance": [],
      "authorship_tag": "ABX9TyOmqhhgRd9DTrmayjxlrgI6",
      "include_colab_link": true
    },
    "kernelspec": {
      "name": "python3",
      "display_name": "Python 3"
    },
    "language_info": {
      "name": "python"
    }
  },
  "cells": [
    {
      "cell_type": "markdown",
      "metadata": {
        "id": "view-in-github",
        "colab_type": "text"
      },
      "source": [
        "<a href=\"https://colab.research.google.com/github/Nitin6523/prediiNER/blob/main/Predii.ipynb\" target=\"_parent\"><img src=\"https://colab.research.google.com/assets/colab-badge.svg\" alt=\"Open In Colab\"/></a>"
      ]
    },
    {
      "cell_type": "markdown",
      "source": [
        "##Libraries and Dependencies"
      ],
      "metadata": {
        "id": "JHDuGpzY0DBb"
      }
    },
    {
      "cell_type": "code",
      "source": [
        "# !pip install langchain"
      ],
      "metadata": {
        "id": "SWm_hyZ2fFAZ"
      },
      "execution_count": null,
      "outputs": []
    },
    {
      "cell_type": "code",
      "source": [
        "# !pip install openai"
      ],
      "metadata": {
        "id": "g_50HCTuMGOj"
      },
      "execution_count": null,
      "outputs": []
    },
    {
      "cell_type": "code",
      "source": [
        "from langchain import PromptTemplate, OpenAI\n"
      ],
      "metadata": {
        "id": "QeDgL6uuWuAa"
      },
      "execution_count": null,
      "outputs": []
    },
    {
      "cell_type": "code",
      "source": [
        "import openai\n",
        "from openai import OpenAI"
      ],
      "metadata": {
        "id": "6k_S7mGJo77b"
      },
      "execution_count": null,
      "outputs": []
    },
    {
      "cell_type": "code",
      "source": [
        "from google.colab import userdata\n",
        "import os\n",
        "os.environ[\"OPENAI_API_KEY\"] = userdata.get('OPENAI_API_KEY')"
      ],
      "metadata": {
        "id": "IC0CPg5ONSOY"
      },
      "execution_count": null,
      "outputs": []
    },
    {
      "cell_type": "markdown",
      "source": [
        "## **Zero Shot..**"
      ],
      "metadata": {
        "id": "vcAlbo-avtaP"
      }
    },
    {
      "cell_type": "code",
      "source": [
        "zero_shot_prompt_template = \"\"\"\n",
        "Please generate a structured output from the provided input text. The input text describes failure issue, vehicle model, corrective action and affected components etc in vehicle. Your task is to extract entities and their corresponding labels.\n",
        "output in the form of Entity and Labels\n",
        "\"\"\""
      ],
      "metadata": {
        "id": "9qyVb68uvyuf"
      },
      "execution_count": null,
      "outputs": []
    },
    {
      "cell_type": "markdown",
      "source": [
        "##**Few Shot..**\n"
      ],
      "metadata": {
        "id": "NR-lVSGJvIm6"
      }
    },
    {
      "cell_type": "code",
      "source": [
        "prompt_template = \"\"\"\n",
        "Please generate a structured output from the provided input text. The input text describes failure issue, vehicle model, corrective action and affected components etc in vehicle. Your task is to extract entities and their corresponding labels.\n",
        "\n",
        "Example 1:\n",
        "Input Text:\n",
        "\n",
        "\"ON CERTAIN CLASS A MOTOR HOMES, THE FLOOR TRUSS NETWORK SUPPORT SYSTEM HAS A POTENTIAL TO WEAKEN CAUSING INTERNAL AND EXTERNAL FEATURES TO BECOME MISALIGNED. THE AFFECTED VEHICLES ARE 1999 - 2003 CLASS A MOTOR HOMES MANUFACTURED ON F53 20,500 POUND GROSS VEHICLE WEIGHT RATING (GVWR), FORD CHASSIS, AND 2000-2003 CLASS A MOTOR HOMES MANUFACTURED ON W-22 22,000 POUND GVWR, WORKHORSE CHASSIS. CONDITIONS CAN RESULT IN THE BOTTOMING OUT THE SUSPENSION AND AMPLIFICATION OF THE STRESS PLACED ON THE FLOOR TRUSS NETWORK. THE ADDITIONAL STRESS CAN RESULT IN THE FRACTURE OF WELDS SECURING THE FLOOR TRUSS NETWORK SYSTEM TO THE CHASSIS FRAME RAIL AND/OR FRACTURE OF THE FLOOR TRUSS NETWORK SUPPORT SYSTEM. THE POSSIBILITY EXISTS THAT THERE COULD BE DAMAGE TO ELECTRICAL WIRING AND/OR FUEL LINES WHICH COULD POTENTIALLY LEAD TO A FIRE.\"\n",
        "\n",
        "Expected Output Format:\n",
        "\n",
        "[\n",
        "  {\"Entity\": \"floor truss network support system\", \"Label\": \"Component\"},\n",
        "  {\"Entity\": \"internal and external features\", \"Label\": \"Component\"},\n",
        "  {\"Entity\": \"ford chassis\", \"Label\": \"Component\"},\n",
        "  {\"Entity\": \"1999 - 2003 Class A motor homes (F53 20,500 pound GVWR, Ford chassis)\", \"Label\": \"Vehicle\"},\n",
        "  {\"Entity\": \"2000-2003 Class A motor homes (W-22 22,000 pound GVWR, Workhorse chassis)\", \"Label\": \"Vehicle\"},\n",
        "  {\"Entity\": \"bottoming out the suspension\", \"Label\": \"Failure Issue\"},\n",
        "  {\"Entity\": \"amplification of the stress\", \"Label\": \"Failure Issue\"},\n",
        "  {\"Entity\": \"floor truss network\", \"Label\": \"Component\"},\n",
        "  {\"Entity\": \"fracture of welds\", \"Label\": \"Failure Issue\"},\n",
        "  {\"Entity\": \"chassis frame rail\", \"Label\": \"Component\"},\n",
        "  {\"Entity\": \"damage to electrical wiring\", \"Label\": \"Failure Issue\"},\n",
        "  {\"Entity\": \"fuel lines\", \"Label\": \"Component\"},\n",
        "  {\"Entity\": \"fire\", \"Label\": \"Failure Issue\"}\n",
        "]\n",
        "\n",
        "Example 2:\n",
        "Input Text:\n",
        "\n",
        "\"CERTAIN MODELS OF SPORTS UTILITY VEHICLES (SUVs) ARE BEING RECALLED DUE TO A POTENTIAL ISSUE WITH THE REAR SUSPENSION SYSTEM. THE AFFECTED VEHICLES ARE 2018-2020 MODELS OF XYZ SUV, MANUFACTURED BETWEEN MARCH 2017 AND AUGUST 2019. DRIVING UNDER CERTAIN CONDITIONS CAN LEAD TO EXCESSIVE WEAR AND TEAR ON THE REAR SUSPENSION COMPONENTS, INCREASING THE RISK OF A SUSPENSION FAILURE. THIS COULD RESULT IN LOSS OF VEHICLE CONTROL AND POTENTIAL ACCIDENTS.\"\n",
        "\n",
        "Expected Output Format:\n",
        "\n",
        "[\n",
        "  {\"Entity\": \"rear suspension system\", \"Label\": \"Component\"},\n",
        "  {\"Entity\": \"2018-2020 models of XYZ SUV, manufactured between March 2017 and August 2019\", \"Label\": \"Vehicle\"},\n",
        "  {\"Entity\": \"driving under certain conditions\", \"Label\": \"Failure Issue\"},\n",
        "  {\"Entity\": \"excessive wear and tear\", \"Label\": \"Failure Issue\"},\n",
        "  {\"Entity\": \"rear suspension components\", \"Label\": \"Component\"},\n",
        "  {\"Entity\": \"suspension failure\", \"Label\": \"Failure Issue\"},\n",
        "  {\"Entity\": \"loss of vehicle control\", \"Label\": \"Failure Issue\"},\n",
        "  {\"Entity\": \"accidents\", \"Label\": \"Failure Issue\"}\n",
        "]\n",
        "\n",
        "Example 3:\n",
        "Input Text:\n",
        "\n",
        "\"CERTAIN MODELS OF ELECTRIC CARS MANUFACTURED BETWEEN 2015 AND 2018 MAY EXPERIENCE BATTERY OVERHEATING ISSUES. THE AFFECTED VEHICLES INCLUDE ALL MODELS OF ABC ELECTRIC CAR MANUFACTURED DURING THIS PERIOD. DRIVING IN HIGH TEMPERATURES OR USING FAST CHARGING METHODS CAN EXACERBATE THE PROBLEM. BATTERY OVERHEATING CAN LEAD TO LOSS OF POWER AND IN SOME CASES, FIRE HAZARDS.\"\n",
        "\n",
        "Expected Output Format:\n",
        "\n",
        "[\n",
        "  {\"Entity\": \"electric cars\", \"Label\": \"Vehicle\"},\n",
        "  {\"Entity\": \"battery overheating issues\", \"Label\": \"Failure Issue\"},\n",
        "  {\"Entity\": \"2015 and 2018\", \"Label\": \"Time Period\"},\n",
        "  {\"Entity\": \"all models of ABC electric car\", \"Label\": \"Vehicle\"},\n",
        "  {\"Entity\": \"high temperatures\", \"Label\": \"Failure Issue\"},\n",
        "  {\"Entity\": \"fast charging methods\", \"Label\": \"Failure Issue\"},\n",
        "  {\"Entity\": \"battery overheating\", \"Label\": \"Failure Issue\"},\n",
        "  {\"Entity\": \"loss of power\", \"Label\": \"Failure Issue\"},\n",
        "  {\"Entity\": \"fire hazards\", \"Label\": \"Failure Issue\"}\n",
        "]\n",
        "\"\"\""
      ],
      "metadata": {
        "id": "H2pDr8OzhXmE"
      },
      "execution_count": null,
      "outputs": []
    },
    {
      "cell_type": "markdown",
      "source": [
        "### Function for making few shot prompt\n",
        "\n"
      ],
      "metadata": {
        "id": "n28seim_xebD"
      }
    },
    {
      "cell_type": "code",
      "source": [
        "def makePrompt(prompt):\n",
        "  prompt_temp = PromptTemplate.from_template(\"\"\"\n",
        "  {prompt_template}\n",
        "  Input Text: {mess}\n",
        "  Output:\n",
        "  \"\"\")\n",
        "\n",
        "  final_prompt = prompt_temp.format(prompt_template=prompt_template,mess=paragraph)\n",
        "  # print(final_prompt)\n",
        "  return final_prompt"
      ],
      "metadata": {
        "id": "jOYDh4WkqNl_"
      },
      "execution_count": null,
      "outputs": []
    },
    {
      "cell_type": "markdown",
      "source": [
        "### Function for making zero shot prompt"
      ],
      "metadata": {
        "id": "j6YJFi5bxQ8l"
      }
    },
    {
      "cell_type": "code",
      "source": [
        "def makeZeroShotPrompt(prompt):\n",
        "  prompt_temp = PromptTemplate.from_template(\"\"\"\n",
        "  {prompt_template}\n",
        "  Input Text: {mess}\n",
        "  Output:\n",
        "  \"\"\")\n",
        "\n",
        "  final_prompt = prompt_temp.format(prompt_template=zero_shot_prompt_template,mess=paragraph)\n",
        "  # print(final_prompt)\n",
        "  return final_prompt"
      ],
      "metadata": {
        "id": "NBKsw9NqxBcn"
      },
      "execution_count": null,
      "outputs": []
    },
    {
      "cell_type": "markdown",
      "source": [
        "### Output Function\n",
        "---\n",
        "\n",
        "Output will be in string format.\n",
        "\n",
        "Ex.\n",
        "```\n",
        "[{\"Entity\":\"abc\",\"Label\" :\"xyz\"}]\n",
        "```\n",
        "\n",
        "---\n",
        "\n",
        "\n",
        "\n",
        "\n",
        "\n"
      ],
      "metadata": {
        "id": "Fjts6vriyjTX"
      }
    },
    {
      "cell_type": "code",
      "source": [
        "def get_response(prompt):\n",
        "    client = OpenAI()\n",
        "\n",
        "    response = client.completions.create(\n",
        "      model=\"gpt-3.5-turbo-instruct\",\n",
        "      prompt=prompt,\n",
        "      max_tokens=500\n",
        "    )\n",
        "\n",
        "    # Extract output\n",
        "    output = response.choices[0].text.strip()\n",
        "    return output\n",
        "\n"
      ],
      "metadata": {
        "id": "-5Gq3-utZWPf"
      },
      "execution_count": null,
      "outputs": []
    },
    {
      "cell_type": "markdown",
      "source": [
        "## **Driver Function..**\n",
        "\n",
        "---\n",
        "\n"
      ],
      "metadata": {
        "id": "XRN_TjEV1Eeb"
      }
    },
    {
      "cell_type": "code",
      "source": [
        "if __name__ == \"__main__\":\n",
        "    # paragraph input\n",
        "    paragraph = input(\"Enter the text paragraph: \")\n",
        "\n",
        "    # made prompt\n",
        "    final_prompt=makePrompt(paragraph)\n",
        "    # final_prompt=makeZeroShotPrompt(paragraph)\n",
        "\n",
        "    # getting output\n",
        "    output = get_response(final_prompt)\n",
        "\n",
        "    # print output\n",
        "    print(output) #Output type is string\n"
      ],
      "metadata": {
        "colab": {
          "base_uri": "https://localhost:8080/"
        },
        "id": "SVXHOFGwTmSZ",
        "outputId": "1f343d75-dd84-4e82-dbdc-8af42d51c1a6"
      },
      "execution_count": null,
      "outputs": [
        {
          "output_type": "stream",
          "name": "stdout",
          "text": [
            "Enter the text paragraph: In the event of a short circuit or wiring failure, the firmware in the node may fail to shut off the output pin, resulting in overloaded electrical circuits. \tOverloaded electrical circuits can overheat, increasing the risk of fire.\n",
            "[\n",
            "  {\"Entity\": \"short circuit\", \"Label\": \"Failure Issue\"},\n",
            "  {\"Entity\": \"wiring failure\", \"Label\": \"Failure Issue\"},\n",
            "  {\"Entity\": \"firmware in the node\", \"Label\": \"Component\"},\n",
            "  {\"Entity\": \"output pin\", \"Label\": \"Component\"},\n",
            "  {\"Entity\": \"overloaded electrical circuits\", \"Label\": \"Failure Issue\"},\n",
            "  {\"Entity\": \"overheating\", \"Label\": \"Failure Issue\"},\n",
            "  {\"Entity\": \"risk of fire\", \"Label\": \"Failure Issue\"}\n",
            "]\n"
          ]
        }
      ]
    },
    {
      "cell_type": "code",
      "execution_count": null,
      "metadata": {
        "colab": {
          "base_uri": "https://localhost:8080/"
        },
        "id": "UByLPdpJMD5v",
        "outputId": "3034e578-7ee2-4cba-9d46-c678a0729635"
      },
      "outputs": [
        {
          "output_type": "stream",
          "name": "stdout",
          "text": [
            "[\n",
            "  {\"Entity\": \"General Motors, LLC (GM)\", \"Label\": \"Vehicle Manufacturer\"},\n",
            "  {\"Entity\": \"Autoliv Driver Front Air Bags\", \"Label\": \"Component\"},\n",
            "  {\"Entity\": \"service replacement parts\", \"Label\": \"Component\"},\n",
            "  {\"Entity\": \"2011-2012 Chevrolet Silverado 1500, Suburban, and Tahoe vehicles\", \"Label\": \"Vehicle\"},\n",
            "  {\"Entity\": \"driver's air bag inflator\", \"Label\": \"Component\"},\n",
            "  {\"Entity\": \"manufacturing defect\", \"Label\": \"Failure Issue\"},\n",
            "  {\"Entity\": \"improper deployment\", \"Label\": \"Failure Issue\"},\n",
            "  {\"Entity\": \"air bag\", \"Label\": \"Component\"},\n",
            "  {\"Entity\": \"crash\", \"Label\": \"Failure Issue\"},\n",
            "  {\"Entity\": \"risk of injury\", \"Label\": \"Safety Concern\"},\n",
            "  {\"Entity\": \"driver air bag module\", \"Label\": \"Component\"},\n",
            "  {\"Entity\": \"inspection\", \"Label\": \"Corrective Action\"},\n",
            "  {\"Entity\": \"replacement\", \"Label\": \"Corrective Action\"}\n",
            "]\n"
          ]
        }
      ],
      "source": [
        "# client = OpenAI()\n",
        "\n",
        "# response = client.completions.create(\n",
        "#   model=\"gpt-3.5-turbo-instruct\",\n",
        "#   prompt=prompt,\n",
        "#   max_tokens=500\n",
        "# )\n",
        "\n",
        "# # Extract output\n",
        "# output = response.choices[0].text.strip()\n",
        "\n",
        "# print(output) # output is a string"
      ]
    }
  ]
}